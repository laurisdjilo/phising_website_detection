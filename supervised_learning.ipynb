{
 "cells": [
  {
   "cell_type": "code",
   "execution_count": 2,
   "id": "cb54e3b8-e278-4c46-b375-d32eea8e206f",
   "metadata": {},
   "outputs": [],
   "source": [
    "import numpy as np\n",
    "import pandas as pd\n",
    "import matplotlib.pyplot as plt\n",
    "from scipy.io import arff\n",
    "from sklearn.preprocessing import OneHotEncoder, LabelEncoder\n",
    "from sklearn.model_selection import StratifiedKFold\n",
    "from sklearn.tree import DecisionTreeClassifier, plot_tree\n",
    "from sklearn.metrics import accuracy_score, f1_score"
   ]
  },
  {
   "cell_type": "markdown",
   "id": "d80bfe5b-8c86-452e-9b48-fab89250fada",
   "metadata": {},
   "source": [
    "# 1. Importation des données"
   ]
  },
  {
   "cell_type": "code",
   "execution_count": 3,
   "id": "52ead3df-b23a-4f82-b3eb-ab6fdcbd6049",
   "metadata": {},
   "outputs": [],
   "source": [
    "data = arff.loadarff('Dataset/PhishingData.arff')\n",
    "df_base = pd.DataFrame(data[0])"
   ]
  },
  {
   "cell_type": "markdown",
   "id": "8bc4ba2d-3845-42db-84c6-71f693cf46f4",
   "metadata": {},
   "source": [
    "# 2. Encodage des variables"
   ]
  },
  {
   "cell_type": "code",
   "execution_count": 5,
   "id": "6c1c4a7b-d5e6-41b2-be5b-a25b453b4589",
   "metadata": {},
   "outputs": [],
   "source": [
    "label_encoder = LabelEncoder()\n",
    "target_var = label_encoder.fit_transform(df_base.Result)\n",
    "\n",
    "df = df_base.drop(['Result'], axis=1)\n",
    "\n",
    "df_encoded = OneHotEncoder().fit_transform(df).toarray()"
   ]
  },
  {
   "cell_type": "markdown",
   "id": "fa7173db-c6c0-4e79-b295-6ffc0ff28e62",
   "metadata": {},
   "source": [
    "# 3. "
   ]
  },
  {
   "cell_type": "markdown",
   "id": "a458f14e-1657-4dc0-bdf9-853b2490e4ef",
   "metadata": {},
   "source": [
    "### Split des données pour le protocole de validation KFold\n",
    "Pour éviter la sous représentation des données pour utiliser la classe StratifiedKFold pour assurer dans chaque split le même pourcentatage de représentation que dans le jeu de données initial."
   ]
  },
  {
   "cell_type": "code",
   "execution_count": 148,
   "id": "5efcb793-dc32-4c29-a620-56c40c8fdeac",
   "metadata": {},
   "outputs": [],
   "source": [
    "stratifiedKFold = StratifiedKFold(n_splits=10, shuffle=True)"
   ]
  },
  {
   "cell_type": "code",
   "execution_count": 151,
   "id": "2128a6c7-7122-4d5a-a619-7146d2fa5532",
   "metadata": {},
   "outputs": [],
   "source": [
    "scores = pd.DataFrame(columns=['train_accuracy', 'train_f1_score', 'test_accuracy', 'test_f1_score'])\n",
    "classifiers = np.array([])\n",
    "\n",
    "for train_index, test_index in stratifiedKFold.split(df_encoded, target_var):\n",
    "    X_train, X_test = df_encoded[train_index], df_encoded[test_index]\n",
    "    y_train, y_test = target_var[train_index], target_var[test_index]\n",
    "    \n",
    "    decision_tree = DecisionTreeClassifier(criterion='gini')\n",
    "    decision_tree.fit(X_train, y_train)\n",
    "    classifiers = np.append(classifiers, decision_tree)\n",
    "    \n",
    "    train_predictions = decision_tree.predict(X_train)\n",
    "    train_accurary = accuracy_score(y_train, train_predictions)\n",
    "    train_f1_score = f1_score(y_train, train_predictions, average='micro')\n",
    "    test_predictions = decision_tree.predict(X_test)\n",
    "    test_accurary = accuracy_score(y_test, test_predictions)\n",
    "    test_f1_score = f1_score(y_test, test_predictions, average='micro')\n",
    "    scores = scores.append({'train_accuracy': train_accurary, 'train_f1_score': train_f1_score, 'test_accuracy': test_accurary, 'test_f1_score': test_f1_score}, ignore_index=True)\n"
   ]
  },
  {
   "cell_type": "code",
   "execution_count": 154,
   "id": "b11955dd-3789-43b3-98fc-5fa7dd9ed746",
   "metadata": {},
   "outputs": [
    {
     "data": {
      "text/html": [
       "<div>\n",
       "<style scoped>\n",
       "    .dataframe tbody tr th:only-of-type {\n",
       "        vertical-align: middle;\n",
       "    }\n",
       "\n",
       "    .dataframe tbody tr th {\n",
       "        vertical-align: top;\n",
       "    }\n",
       "\n",
       "    .dataframe thead th {\n",
       "        text-align: right;\n",
       "    }\n",
       "</style>\n",
       "<table border=\"1\" class=\"dataframe\">\n",
       "  <thead>\n",
       "    <tr style=\"text-align: right;\">\n",
       "      <th></th>\n",
       "      <th>train_accuracy</th>\n",
       "      <th>train_f1_score</th>\n",
       "      <th>test_accuracy</th>\n",
       "      <th>test_f1_score</th>\n",
       "    </tr>\n",
       "  </thead>\n",
       "  <tbody>\n",
       "    <tr>\n",
       "      <th>count</th>\n",
       "      <td>10.000000</td>\n",
       "      <td>10.000000</td>\n",
       "      <td>10.000000</td>\n",
       "      <td>10.000000</td>\n",
       "    </tr>\n",
       "    <tr>\n",
       "      <th>mean</th>\n",
       "      <td>0.962224</td>\n",
       "      <td>0.962224</td>\n",
       "      <td>0.883960</td>\n",
       "      <td>0.883960</td>\n",
       "    </tr>\n",
       "    <tr>\n",
       "      <th>std</th>\n",
       "      <td>0.002789</td>\n",
       "      <td>0.002789</td>\n",
       "      <td>0.032179</td>\n",
       "      <td>0.032179</td>\n",
       "    </tr>\n",
       "    <tr>\n",
       "      <th>min</th>\n",
       "      <td>0.958128</td>\n",
       "      <td>0.958128</td>\n",
       "      <td>0.822222</td>\n",
       "      <td>0.822222</td>\n",
       "    </tr>\n",
       "    <tr>\n",
       "      <th>25%</th>\n",
       "      <td>0.959762</td>\n",
       "      <td>0.959762</td>\n",
       "      <td>0.869485</td>\n",
       "      <td>0.869485</td>\n",
       "    </tr>\n",
       "    <tr>\n",
       "      <th>50%</th>\n",
       "      <td>0.962218</td>\n",
       "      <td>0.962218</td>\n",
       "      <td>0.885185</td>\n",
       "      <td>0.885185</td>\n",
       "    </tr>\n",
       "    <tr>\n",
       "      <th>75%</th>\n",
       "      <td>0.964484</td>\n",
       "      <td>0.964484</td>\n",
       "      <td>0.907407</td>\n",
       "      <td>0.907407</td>\n",
       "    </tr>\n",
       "    <tr>\n",
       "      <th>max</th>\n",
       "      <td>0.966338</td>\n",
       "      <td>0.966338</td>\n",
       "      <td>0.933333</td>\n",
       "      <td>0.933333</td>\n",
       "    </tr>\n",
       "  </tbody>\n",
       "</table>\n",
       "</div>"
      ],
      "text/plain": [
       "       train_accuracy  train_f1_score  test_accuracy  test_f1_score\n",
       "count       10.000000       10.000000      10.000000      10.000000\n",
       "mean         0.962224        0.962224       0.883960       0.883960\n",
       "std          0.002789        0.002789       0.032179       0.032179\n",
       "min          0.958128        0.958128       0.822222       0.822222\n",
       "25%          0.959762        0.959762       0.869485       0.869485\n",
       "50%          0.962218        0.962218       0.885185       0.885185\n",
       "75%          0.964484        0.964484       0.907407       0.907407\n",
       "max          0.966338        0.966338       0.933333       0.933333"
      ]
     },
     "execution_count": 154,
     "metadata": {},
     "output_type": "execute_result"
    }
   ],
   "source": [
    "scores.describe()"
   ]
  },
  {
   "cell_type": "code",
   "execution_count": 153,
   "id": "5855f0e5-de22-49a3-b1de-2a75198cc839",
   "metadata": {},
   "outputs": [
    {
     "data": {
      "text/html": [
       "<div>\n",
       "<style scoped>\n",
       "    .dataframe tbody tr th:only-of-type {\n",
       "        vertical-align: middle;\n",
       "    }\n",
       "\n",
       "    .dataframe tbody tr th {\n",
       "        vertical-align: top;\n",
       "    }\n",
       "\n",
       "    .dataframe thead th {\n",
       "        text-align: right;\n",
       "    }\n",
       "</style>\n",
       "<table border=\"1\" class=\"dataframe\">\n",
       "  <thead>\n",
       "    <tr style=\"text-align: right;\">\n",
       "      <th></th>\n",
       "      <th>train_accuracy</th>\n",
       "      <th>train_f1_score</th>\n",
       "      <th>test_accuracy</th>\n",
       "      <th>test_f1_score</th>\n",
       "    </tr>\n",
       "  </thead>\n",
       "  <tbody>\n",
       "    <tr>\n",
       "      <th>0</th>\n",
       "      <td>0.962202</td>\n",
       "      <td>0.962202</td>\n",
       "      <td>0.867647</td>\n",
       "      <td>0.867647</td>\n",
       "    </tr>\n",
       "    <tr>\n",
       "      <th>1</th>\n",
       "      <td>0.962202</td>\n",
       "      <td>0.962202</td>\n",
       "      <td>0.911765</td>\n",
       "      <td>0.911765</td>\n",
       "    </tr>\n",
       "    <tr>\n",
       "      <th>2</th>\n",
       "      <td>0.963846</td>\n",
       "      <td>0.963846</td>\n",
       "      <td>0.875000</td>\n",
       "      <td>0.875000</td>\n",
       "    </tr>\n",
       "    <tr>\n",
       "      <th>3</th>\n",
       "      <td>0.964696</td>\n",
       "      <td>0.964696</td>\n",
       "      <td>0.881481</td>\n",
       "      <td>0.881481</td>\n",
       "    </tr>\n",
       "    <tr>\n",
       "      <th>4</th>\n",
       "      <td>0.966338</td>\n",
       "      <td>0.966338</td>\n",
       "      <td>0.822222</td>\n",
       "      <td>0.822222</td>\n",
       "    </tr>\n",
       "    <tr>\n",
       "      <th>5</th>\n",
       "      <td>0.958949</td>\n",
       "      <td>0.958949</td>\n",
       "      <td>0.933333</td>\n",
       "      <td>0.933333</td>\n",
       "    </tr>\n",
       "    <tr>\n",
       "      <th>6</th>\n",
       "      <td>0.958128</td>\n",
       "      <td>0.958128</td>\n",
       "      <td>0.911111</td>\n",
       "      <td>0.911111</td>\n",
       "    </tr>\n",
       "    <tr>\n",
       "      <th>7</th>\n",
       "      <td>0.964696</td>\n",
       "      <td>0.964696</td>\n",
       "      <td>0.851852</td>\n",
       "      <td>0.851852</td>\n",
       "    </tr>\n",
       "    <tr>\n",
       "      <th>8</th>\n",
       "      <td>0.962233</td>\n",
       "      <td>0.962233</td>\n",
       "      <td>0.888889</td>\n",
       "      <td>0.888889</td>\n",
       "    </tr>\n",
       "    <tr>\n",
       "      <th>9</th>\n",
       "      <td>0.958949</td>\n",
       "      <td>0.958949</td>\n",
       "      <td>0.896296</td>\n",
       "      <td>0.896296</td>\n",
       "    </tr>\n",
       "  </tbody>\n",
       "</table>\n",
       "</div>"
      ],
      "text/plain": [
       "   train_accuracy  train_f1_score  test_accuracy  test_f1_score\n",
       "0        0.962202        0.962202       0.867647       0.867647\n",
       "1        0.962202        0.962202       0.911765       0.911765\n",
       "2        0.963846        0.963846       0.875000       0.875000\n",
       "3        0.964696        0.964696       0.881481       0.881481\n",
       "4        0.966338        0.966338       0.822222       0.822222\n",
       "5        0.958949        0.958949       0.933333       0.933333\n",
       "6        0.958128        0.958128       0.911111       0.911111\n",
       "7        0.964696        0.964696       0.851852       0.851852\n",
       "8        0.962233        0.962233       0.888889       0.888889\n",
       "9        0.958949        0.958949       0.896296       0.896296"
      ]
     },
     "execution_count": 153,
     "metadata": {},
     "output_type": "execute_result"
    }
   ],
   "source": [
    "scores"
   ]
  },
  {
   "cell_type": "code",
   "execution_count": 155,
   "id": "f2768843-59be-40e7-9f98-f13964e2d982",
   "metadata": {},
   "outputs": [],
   "source": [
    "final_classifier = classifiers[5]"
   ]
  },
  {
   "cell_type": "code",
   "execution_count": null,
   "id": "ad5e05b2-f8a2-496a-80ff-537aa0b47ddb",
   "metadata": {},
   "outputs": [],
   "source": [
    "fig = plt.figure(figsize=(150,150))\n",
    "plot_tree(final_classifier, feature_names=pd.Series(np.arange(0, 25)).apply(str), class_names=pd.Series(real_labels).apply(str).unique(), filled=True)"
   ]
  },
  {
   "cell_type": "code",
   "execution_count": 157,
   "id": "4cd2a455-010d-4b5a-aece-9251784be627",
   "metadata": {},
   "outputs": [],
   "source": [
    "fig.savefig(\"decision_tree.jpg\")"
   ]
  },
  {
   "cell_type": "code",
   "execution_count": null,
   "id": "d2d379a6-64b1-4cf1-bbe9-e51de256f249",
   "metadata": {},
   "outputs": [],
   "source": []
  }
 ],
 "metadata": {
  "kernelspec": {
   "display_name": "Python 3 (ipykernel)",
   "language": "python",
   "name": "python3"
  },
  "language_info": {
   "codemirror_mode": {
    "name": "ipython",
    "version": 3
   },
   "file_extension": ".py",
   "mimetype": "text/x-python",
   "name": "python",
   "nbconvert_exporter": "python",
   "pygments_lexer": "ipython3",
   "version": "3.8.10"
  }
 },
 "nbformat": 4,
 "nbformat_minor": 5
}
